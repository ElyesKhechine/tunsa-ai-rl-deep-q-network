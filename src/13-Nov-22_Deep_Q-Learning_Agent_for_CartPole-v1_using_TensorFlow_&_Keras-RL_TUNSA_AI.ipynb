{
 "cells": [
  {
   "cell_type": "markdown",
   "metadata": {},
   "source": [
    "# 0. Install Dependencies"
   ]
  },
  {
   "cell_type": "code",
   "execution_count": 2,
   "metadata": {
    "scrolled": true
   },
   "outputs": [
    {
     "name": "stdout",
     "output_type": "stream",
     "text": [
      "Requirement already satisfied: tensorflow==2.3.0 in c:\\users\\elyes\\appdata\\roaming\\python\\python36\\site-packages (2.3.0)\n",
      "Requirement already satisfied: astunparse==1.6.3 in c:\\users\\elyes\\appdata\\roaming\\python\\python36\\site-packages (from tensorflow==2.3.0) (1.6.3)\n",
      "Requirement already satisfied: six>=1.12.0 in c:\\users\\elyes\\anaconda3\\lib\\site-packages (from tensorflow==2.3.0) (1.15.0)\n",
      "Requirement already satisfied: scipy==1.4.1 in c:\\users\\elyes\\appdata\\roaming\\python\\python36\\site-packages (from tensorflow==2.3.0) (1.4.1)\n",
      "Requirement already satisfied: h5py<2.11.0,>=2.10.0 in c:\\users\\elyes\\appdata\\roaming\\python\\python36\\site-packages (from tensorflow==2.3.0) (2.10.0)\n",
      "Requirement already satisfied: opt-einsum>=2.3.2 in c:\\users\\elyes\\appdata\\roaming\\python\\python36\\site-packages (from tensorflow==2.3.0) (3.3.0)\n",
      "Requirement already satisfied: tensorboard<3,>=2.3.0 in c:\\users\\elyes\\appdata\\roaming\\python\\python36\\site-packages (from tensorflow==2.3.0) (2.10.1)\n",
      "Requirement already satisfied: termcolor>=1.1.0 in c:\\users\\elyes\\appdata\\roaming\\python\\python36\\site-packages (from tensorflow==2.3.0) (1.1.0)\n",
      "Requirement already satisfied: numpy<1.19.0,>=1.16.0 in c:\\users\\elyes\\appdata\\roaming\\python\\python36\\site-packages (from tensorflow==2.3.0) (1.18.5)\n",
      "Requirement already satisfied: protobuf>=3.9.2 in c:\\users\\elyes\\anaconda3\\lib\\site-packages (from tensorflow==2.3.0) (3.19.6)\n",
      "Requirement already satisfied: google-pasta>=0.1.8 in c:\\users\\elyes\\appdata\\roaming\\python\\python36\\site-packages (from tensorflow==2.3.0) (0.2.0)\n",
      "Requirement already satisfied: tensorflow-estimator<2.4.0,>=2.3.0 in c:\\users\\elyes\\appdata\\roaming\\python\\python36\\site-packages (from tensorflow==2.3.0) (2.3.0)\n",
      "Requirement already satisfied: wrapt>=1.11.1 in c:\\users\\elyes\\appdata\\roaming\\python\\python36\\site-packages (from tensorflow==2.3.0) (1.14.1)\n",
      "Requirement already satisfied: wheel>=0.26 in c:\\users\\elyes\\anaconda3\\lib\\site-packages (from tensorflow==2.3.0) (0.37.1)\n",
      "Requirement already satisfied: gast==0.3.3 in c:\\users\\elyes\\appdata\\roaming\\python\\python36\\site-packages (from tensorflow==2.3.0) (0.3.3)\n",
      "Requirement already satisfied: absl-py>=0.7.0 in c:\\users\\elyes\\anaconda3\\lib\\site-packages (from tensorflow==2.3.0) (0.15.0)\n",
      "Requirement already satisfied: keras-preprocessing<1.2,>=1.1.1 in c:\\users\\elyes\\appdata\\roaming\\python\\python36\\site-packages (from tensorflow==2.3.0) (1.1.2)\n",
      "Requirement already satisfied: grpcio>=1.8.6 in c:\\users\\elyes\\anaconda3\\lib\\site-packages (from tensorflow==2.3.0) (1.48.2)\n",
      "Requirement already satisfied: markdown>=2.6.8 in c:\\users\\elyes\\anaconda3\\lib\\site-packages (from tensorboard<3,>=2.3.0->tensorflow==2.3.0) (3.3.7)\n",
      "Requirement already satisfied: tensorboard-data-server<0.7.0,>=0.6.0 in c:\\users\\elyes\\anaconda3\\lib\\site-packages (from tensorboard<3,>=2.3.0->tensorflow==2.3.0) (0.6.1)\n",
      "Requirement already satisfied: setuptools>=41.0.0 in c:\\users\\elyes\\anaconda3\\lib\\site-packages (from tensorboard<3,>=2.3.0->tensorflow==2.3.0) (59.6.0)\n",
      "Requirement already satisfied: requests<3,>=2.21.0 in c:\\users\\elyes\\anaconda3\\lib\\site-packages (from tensorboard<3,>=2.3.0->tensorflow==2.3.0) (2.27.1)\n",
      "Requirement already satisfied: werkzeug>=1.0.1 in c:\\users\\elyes\\anaconda3\\lib\\site-packages (from tensorboard<3,>=2.3.0->tensorflow==2.3.0) (2.0.3)\n",
      "Requirement already satisfied: tensorboard-plugin-wit>=1.6.0 in c:\\users\\elyes\\anaconda3\\lib\\site-packages (from tensorboard<3,>=2.3.0->tensorflow==2.3.0) (1.8.1)\n",
      "Requirement already satisfied: google-auth<3,>=1.6.3 in c:\\users\\elyes\\anaconda3\\lib\\site-packages (from tensorboard<3,>=2.3.0->tensorflow==2.3.0) (1.35.0)\n",
      "Requirement already satisfied: google-auth-oauthlib<0.5,>=0.4.1 in c:\\users\\elyes\\anaconda3\\lib\\site-packages (from tensorboard<3,>=2.3.0->tensorflow==2.3.0) (0.4.6)\n",
      "Requirement already satisfied: rsa<5,>=3.1.4 in c:\\users\\elyes\\anaconda3\\lib\\site-packages (from google-auth<3,>=1.6.3->tensorboard<3,>=2.3.0->tensorflow==2.3.0) (4.9)\n",
      "Requirement already satisfied: pyasn1-modules>=0.2.1 in c:\\users\\elyes\\anaconda3\\lib\\site-packages (from google-auth<3,>=1.6.3->tensorboard<3,>=2.3.0->tensorflow==2.3.0) (0.2.8)\n",
      "Requirement already satisfied: cachetools<5.0,>=2.0.0 in c:\\users\\elyes\\anaconda3\\lib\\site-packages (from google-auth<3,>=1.6.3->tensorboard<3,>=2.3.0->tensorflow==2.3.0) (4.2.4)\n",
      "Requirement already satisfied: requests-oauthlib>=0.7.0 in c:\\users\\elyes\\anaconda3\\lib\\site-packages (from google-auth-oauthlib<0.5,>=0.4.1->tensorboard<3,>=2.3.0->tensorflow==2.3.0) (1.3.1)\n",
      "Requirement already satisfied: importlib-metadata>=4.4 in c:\\users\\elyes\\anaconda3\\lib\\site-packages (from markdown>=2.6.8->tensorboard<3,>=2.3.0->tensorflow==2.3.0) (4.8.3)\n",
      "Requirement already satisfied: idna<4,>=2.5 in c:\\users\\elyes\\anaconda3\\lib\\site-packages (from requests<3,>=2.21.0->tensorboard<3,>=2.3.0->tensorflow==2.3.0) (2.6)\n",
      "Requirement already satisfied: charset-normalizer~=2.0.0 in c:\\users\\elyes\\anaconda3\\lib\\site-packages (from requests<3,>=2.21.0->tensorboard<3,>=2.3.0->tensorflow==2.3.0) (2.0.12)\n",
      "Requirement already satisfied: urllib3<1.27,>=1.21.1 in c:\\users\\elyes\\anaconda3\\lib\\site-packages (from requests<3,>=2.21.0->tensorboard<3,>=2.3.0->tensorflow==2.3.0) (1.22)\n",
      "Requirement already satisfied: certifi>=2017.4.17 in c:\\users\\elyes\\anaconda3\\lib\\site-packages (from requests<3,>=2.21.0->tensorboard<3,>=2.3.0->tensorflow==2.3.0) (2018.4.16)\n",
      "Requirement already satisfied: dataclasses in c:\\users\\elyes\\anaconda3\\lib\\site-packages (from werkzeug>=1.0.1->tensorboard<3,>=2.3.0->tensorflow==2.3.0) (0.8)\n",
      "Requirement already satisfied: zipp>=0.5 in c:\\users\\elyes\\anaconda3\\lib\\site-packages (from importlib-metadata>=4.4->markdown>=2.6.8->tensorboard<3,>=2.3.0->tensorflow==2.3.0) (3.6.0)\n",
      "Requirement already satisfied: typing-extensions>=3.6.4 in c:\\users\\elyes\\anaconda3\\lib\\site-packages (from importlib-metadata>=4.4->markdown>=2.6.8->tensorboard<3,>=2.3.0->tensorflow==2.3.0) (3.7.4.3)\n",
      "Requirement already satisfied: pyasn1<0.5.0,>=0.4.6 in c:\\users\\elyes\\anaconda3\\lib\\site-packages (from pyasn1-modules>=0.2.1->google-auth<3,>=1.6.3->tensorboard<3,>=2.3.0->tensorflow==2.3.0) (0.4.8)\n",
      "Requirement already satisfied: oauthlib>=3.0.0 in c:\\users\\elyes\\anaconda3\\lib\\site-packages (from requests-oauthlib>=0.7.0->google-auth-oauthlib<0.5,>=0.4.1->tensorboard<3,>=2.3.0->tensorflow==2.3.0) (3.2.2)\n",
      "Requirement already satisfied: gym in c:\\users\\elyes\\anaconda3\\lib\\site-packages (0.26.2)\n",
      "Requirement already satisfied: importlib-metadata>=4.8.0 in c:\\users\\elyes\\anaconda3\\lib\\site-packages (from gym) (4.8.3)\n",
      "Requirement already satisfied: gym-notices>=0.0.4 in c:\\users\\elyes\\anaconda3\\lib\\site-packages (from gym) (0.0.8)\n",
      "Requirement already satisfied: dataclasses==0.8 in c:\\users\\elyes\\anaconda3\\lib\\site-packages (from gym) (0.8)\n",
      "Requirement already satisfied: cloudpickle>=1.2.0 in c:\\users\\elyes\\anaconda3\\lib\\site-packages (from gym) (2.2.0)\n",
      "Requirement already satisfied: numpy>=1.18.0 in c:\\users\\elyes\\appdata\\roaming\\python\\python36\\site-packages (from gym) (1.18.5)\n",
      "Requirement already satisfied: typing-extensions>=3.6.4 in c:\\users\\elyes\\anaconda3\\lib\\site-packages (from importlib-metadata>=4.8.0->gym) (3.7.4.3)\n",
      "Requirement already satisfied: zipp>=0.5 in c:\\users\\elyes\\anaconda3\\lib\\site-packages (from importlib-metadata>=4.8.0->gym) (3.6.0)\n",
      "Requirement already satisfied: keras in c:\\users\\elyes\\anaconda3\\lib\\site-packages (2.10.0)\n",
      "Requirement already satisfied: keras-rl2 in c:\\users\\elyes\\anaconda3\\lib\\site-packages (1.0.5)\n",
      "Requirement already satisfied: tensorflow in c:\\users\\elyes\\appdata\\roaming\\python\\python36\\site-packages (from keras-rl2) (2.3.0)\n",
      "Requirement already satisfied: gast==0.3.3 in c:\\users\\elyes\\appdata\\roaming\\python\\python36\\site-packages (from tensorflow->keras-rl2) (0.3.3)\n",
      "Requirement already satisfied: h5py<2.11.0,>=2.10.0 in c:\\users\\elyes\\appdata\\roaming\\python\\python36\\site-packages (from tensorflow->keras-rl2) (2.10.0)\n",
      "Requirement already satisfied: protobuf>=3.9.2 in c:\\users\\elyes\\anaconda3\\lib\\site-packages (from tensorflow->keras-rl2) (3.19.6)\n",
      "Requirement already satisfied: termcolor>=1.1.0 in c:\\users\\elyes\\appdata\\roaming\\python\\python36\\site-packages (from tensorflow->keras-rl2) (1.1.0)\n",
      "Requirement already satisfied: scipy==1.4.1 in c:\\users\\elyes\\appdata\\roaming\\python\\python36\\site-packages (from tensorflow->keras-rl2) (1.4.1)\n",
      "Requirement already satisfied: opt-einsum>=2.3.2 in c:\\users\\elyes\\appdata\\roaming\\python\\python36\\site-packages (from tensorflow->keras-rl2) (3.3.0)\n",
      "Requirement already satisfied: six>=1.12.0 in c:\\users\\elyes\\anaconda3\\lib\\site-packages (from tensorflow->keras-rl2) (1.15.0)\n",
      "Requirement already satisfied: grpcio>=1.8.6 in c:\\users\\elyes\\anaconda3\\lib\\site-packages (from tensorflow->keras-rl2) (1.48.2)\n",
      "Requirement already satisfied: absl-py>=0.7.0 in c:\\users\\elyes\\anaconda3\\lib\\site-packages (from tensorflow->keras-rl2) (0.15.0)\n",
      "Requirement already satisfied: astunparse==1.6.3 in c:\\users\\elyes\\appdata\\roaming\\python\\python36\\site-packages (from tensorflow->keras-rl2) (1.6.3)\n",
      "Requirement already satisfied: keras-preprocessing<1.2,>=1.1.1 in c:\\users\\elyes\\appdata\\roaming\\python\\python36\\site-packages (from tensorflow->keras-rl2) (1.1.2)\n",
      "Requirement already satisfied: numpy<1.19.0,>=1.16.0 in c:\\users\\elyes\\appdata\\roaming\\python\\python36\\site-packages (from tensorflow->keras-rl2) (1.18.5)\n",
      "Requirement already satisfied: tensorboard<3,>=2.3.0 in c:\\users\\elyes\\appdata\\roaming\\python\\python36\\site-packages (from tensorflow->keras-rl2) (2.10.1)\n",
      "Requirement already satisfied: tensorflow-estimator<2.4.0,>=2.3.0 in c:\\users\\elyes\\appdata\\roaming\\python\\python36\\site-packages (from tensorflow->keras-rl2) (2.3.0)\n",
      "Requirement already satisfied: wrapt>=1.11.1 in c:\\users\\elyes\\appdata\\roaming\\python\\python36\\site-packages (from tensorflow->keras-rl2) (1.14.1)\n",
      "Requirement already satisfied: google-pasta>=0.1.8 in c:\\users\\elyes\\appdata\\roaming\\python\\python36\\site-packages (from tensorflow->keras-rl2) (0.2.0)\n",
      "Requirement already satisfied: wheel>=0.26 in c:\\users\\elyes\\anaconda3\\lib\\site-packages (from tensorflow->keras-rl2) (0.37.1)\n",
      "Requirement already satisfied: requests<3,>=2.21.0 in c:\\users\\elyes\\anaconda3\\lib\\site-packages (from tensorboard<3,>=2.3.0->tensorflow->keras-rl2) (2.27.1)\n",
      "Requirement already satisfied: werkzeug>=1.0.1 in c:\\users\\elyes\\anaconda3\\lib\\site-packages (from tensorboard<3,>=2.3.0->tensorflow->keras-rl2) (2.0.3)\n",
      "Requirement already satisfied: markdown>=2.6.8 in c:\\users\\elyes\\anaconda3\\lib\\site-packages (from tensorboard<3,>=2.3.0->tensorflow->keras-rl2) (3.3.7)\n",
      "Requirement already satisfied: setuptools>=41.0.0 in c:\\users\\elyes\\anaconda3\\lib\\site-packages (from tensorboard<3,>=2.3.0->tensorflow->keras-rl2) (59.6.0)\n",
      "Requirement already satisfied: tensorboard-plugin-wit>=1.6.0 in c:\\users\\elyes\\anaconda3\\lib\\site-packages (from tensorboard<3,>=2.3.0->tensorflow->keras-rl2) (1.8.1)\n",
      "Requirement already satisfied: google-auth<3,>=1.6.3 in c:\\users\\elyes\\anaconda3\\lib\\site-packages (from tensorboard<3,>=2.3.0->tensorflow->keras-rl2) (1.35.0)\n",
      "Requirement already satisfied: tensorboard-data-server<0.7.0,>=0.6.0 in c:\\users\\elyes\\anaconda3\\lib\\site-packages (from tensorboard<3,>=2.3.0->tensorflow->keras-rl2) (0.6.1)\n",
      "Requirement already satisfied: google-auth-oauthlib<0.5,>=0.4.1 in c:\\users\\elyes\\anaconda3\\lib\\site-packages (from tensorboard<3,>=2.3.0->tensorflow->keras-rl2) (0.4.6)\n",
      "Requirement already satisfied: pyasn1-modules>=0.2.1 in c:\\users\\elyes\\anaconda3\\lib\\site-packages (from google-auth<3,>=1.6.3->tensorboard<3,>=2.3.0->tensorflow->keras-rl2) (0.2.8)\n",
      "Requirement already satisfied: cachetools<5.0,>=2.0.0 in c:\\users\\elyes\\anaconda3\\lib\\site-packages (from google-auth<3,>=1.6.3->tensorboard<3,>=2.3.0->tensorflow->keras-rl2) (4.2.4)\n",
      "Requirement already satisfied: rsa<5,>=3.1.4 in c:\\users\\elyes\\anaconda3\\lib\\site-packages (from google-auth<3,>=1.6.3->tensorboard<3,>=2.3.0->tensorflow->keras-rl2) (4.9)\n",
      "Requirement already satisfied: requests-oauthlib>=0.7.0 in c:\\users\\elyes\\anaconda3\\lib\\site-packages (from google-auth-oauthlib<0.5,>=0.4.1->tensorboard<3,>=2.3.0->tensorflow->keras-rl2) (1.3.1)\n",
      "Requirement already satisfied: importlib-metadata>=4.4 in c:\\users\\elyes\\anaconda3\\lib\\site-packages (from markdown>=2.6.8->tensorboard<3,>=2.3.0->tensorflow->keras-rl2) (4.8.3)\n",
      "Requirement already satisfied: certifi>=2017.4.17 in c:\\users\\elyes\\anaconda3\\lib\\site-packages (from requests<3,>=2.21.0->tensorboard<3,>=2.3.0->tensorflow->keras-rl2) (2018.4.16)\n",
      "Requirement already satisfied: charset-normalizer~=2.0.0 in c:\\users\\elyes\\anaconda3\\lib\\site-packages (from requests<3,>=2.21.0->tensorboard<3,>=2.3.0->tensorflow->keras-rl2) (2.0.12)\n",
      "Requirement already satisfied: idna<4,>=2.5 in c:\\users\\elyes\\anaconda3\\lib\\site-packages (from requests<3,>=2.21.0->tensorboard<3,>=2.3.0->tensorflow->keras-rl2) (2.6)\n",
      "Requirement already satisfied: urllib3<1.27,>=1.21.1 in c:\\users\\elyes\\anaconda3\\lib\\site-packages (from requests<3,>=2.21.0->tensorboard<3,>=2.3.0->tensorflow->keras-rl2) (1.22)\n",
      "Requirement already satisfied: dataclasses in c:\\users\\elyes\\anaconda3\\lib\\site-packages (from werkzeug>=1.0.1->tensorboard<3,>=2.3.0->tensorflow->keras-rl2) (0.8)\n",
      "Requirement already satisfied: typing-extensions>=3.6.4 in c:\\users\\elyes\\anaconda3\\lib\\site-packages (from importlib-metadata>=4.4->markdown>=2.6.8->tensorboard<3,>=2.3.0->tensorflow->keras-rl2) (3.7.4.3)\n",
      "Requirement already satisfied: zipp>=0.5 in c:\\users\\elyes\\anaconda3\\lib\\site-packages (from importlib-metadata>=4.4->markdown>=2.6.8->tensorboard<3,>=2.3.0->tensorflow->keras-rl2) (3.6.0)\n",
      "Requirement already satisfied: pyasn1<0.5.0,>=0.4.6 in c:\\users\\elyes\\anaconda3\\lib\\site-packages (from pyasn1-modules>=0.2.1->google-auth<3,>=1.6.3->tensorboard<3,>=2.3.0->tensorflow->keras-rl2) (0.4.8)\n",
      "Requirement already satisfied: oauthlib>=3.0.0 in c:\\users\\elyes\\anaconda3\\lib\\site-packages (from requests-oauthlib>=0.7.0->google-auth-oauthlib<0.5,>=0.4.1->tensorboard<3,>=2.3.0->tensorflow->keras-rl2) (3.2.2)\n"
     ]
    }
   ],
   "source": [
    "!pip install tensorflow==2.3.0 --user\n",
    "!pip install gym\n",
    "!pip install keras\n",
    "!pip install keras-rl2"
   ]
  },
  {
   "cell_type": "markdown",
   "metadata": {},
   "source": [
    "# 1. Test Random Environment with OpenAI Gym"
   ]
  },
  {
   "cell_type": "code",
   "execution_count": 3,
   "metadata": {},
   "outputs": [
    {
     "name": "stdout",
     "output_type": "stream",
     "text": [
      "Requirement already satisfied: gym[classic_control] in c:\\users\\elyes\\anaconda3\\lib\\site-packages (0.26.2)\n",
      "Requirement already satisfied: dataclasses==0.8 in c:\\users\\elyes\\anaconda3\\lib\\site-packages (from gym[classic_control]) (0.8)\n",
      "Requirement already satisfied: cloudpickle>=1.2.0 in c:\\users\\elyes\\anaconda3\\lib\\site-packages (from gym[classic_control]) (2.2.0)\n",
      "Requirement already satisfied: gym-notices>=0.0.4 in c:\\users\\elyes\\anaconda3\\lib\\site-packages (from gym[classic_control]) (0.0.8)\n",
      "Requirement already satisfied: numpy>=1.18.0 in c:\\users\\elyes\\appdata\\roaming\\python\\python36\\site-packages (from gym[classic_control]) (1.18.5)\n",
      "Requirement already satisfied: importlib-metadata>=4.8.0 in c:\\users\\elyes\\anaconda3\\lib\\site-packages (from gym[classic_control]) (4.8.3)\n",
      "Requirement already satisfied: pygame==2.1.0 in c:\\users\\elyes\\anaconda3\\lib\\site-packages (from gym[classic_control]) (2.1.0)\n",
      "Requirement already satisfied: zipp>=0.5 in c:\\users\\elyes\\anaconda3\\lib\\site-packages (from importlib-metadata>=4.8.0->gym[classic_control]) (3.6.0)\n",
      "Requirement already satisfied: typing-extensions>=3.6.4 in c:\\users\\elyes\\anaconda3\\lib\\site-packages (from importlib-metadata>=4.8.0->gym[classic_control]) (3.7.4.3)\n"
     ]
    }
   ],
   "source": [
    "!pip install gym[classic_control]"
   ]
  },
  {
   "cell_type": "code",
   "execution_count": 34,
   "metadata": {},
   "outputs": [],
   "source": [
    "import gym \n",
    "import random"
   ]
  },
  {
   "cell_type": "code",
   "execution_count": 62,
   "metadata": {},
   "outputs": [],
   "source": [
    "env = gym.make('CartPole-v1')\n",
    "states = env.observation_space.shape[0]\n",
    "actions = env.action_space.n"
   ]
  },
  {
   "cell_type": "code",
   "execution_count": 63,
   "metadata": {},
   "outputs": [
    {
     "data": {
      "text/plain": [
       "2"
      ]
     },
     "execution_count": 63,
     "metadata": {},
     "output_type": "execute_result"
    }
   ],
   "source": [
    "actions"
   ]
  },
  {
   "cell_type": "code",
   "execution_count": 37,
   "metadata": {},
   "outputs": [],
   "source": [
    "env.close()"
   ]
  },
  {
   "cell_type": "code",
   "execution_count": 38,
   "metadata": {},
   "outputs": [
    {
     "name": "stdout",
     "output_type": "stream",
     "text": [
      "Episode:1 Score:20.0\n",
      "Episode:2 Score:15.0\n",
      "Episode:3 Score:17.0\n",
      "Episode:4 Score:16.0\n",
      "Episode:5 Score:22.0\n",
      "Episode:6 Score:29.0\n",
      "Episode:7 Score:14.0\n",
      "Episode:8 Score:29.0\n",
      "Episode:9 Score:11.0\n",
      "Episode:10 Score:39.0\n"
     ]
    }
   ],
   "source": [
    "episodes = 10\n",
    "for episode in range(1, episodes+1):\n",
    "    state = env.reset()\n",
    "    done = False\n",
    "    score = 0 \n",
    "    \n",
    "    while not done:\n",
    "        env.render()\n",
    "        action = random.choice([0,1])\n",
    "        #env.step(action)\n",
    "        n_state, reward, done, info, info2 = env.step(action)\n",
    "        score+=reward\n",
    "    print('Episode:{} Score:{}'.format(episode, score))"
   ]
  },
  {
   "cell_type": "markdown",
   "metadata": {},
   "source": [
    "# 2. Create a Deep Learning Model with Keras"
   ]
  },
  {
   "cell_type": "code",
   "execution_count": 39,
   "metadata": {},
   "outputs": [],
   "source": [
    "import numpy as np\n",
    "from tensorflow.keras.models import Sequential\n",
    "from tensorflow.keras.layers import Dense, Flatten\n",
    "from tensorflow.keras.optimizers import Adam"
   ]
  },
  {
   "cell_type": "code",
   "execution_count": 71,
   "metadata": {},
   "outputs": [],
   "source": [
    "def build_model(states, actions):\n",
    "    model = Sequential()\n",
    "    model.add(Flatten(input_shape=(1,states)))\n",
    "    model.add(Dense(24, activation='relu'))\n",
    "    model.add(Dense(24, activation='relu'))\n",
    "    model.add(Dense(actions, activation='linear'))\n",
    "    return model"
   ]
  },
  {
   "cell_type": "code",
   "execution_count": 72,
   "metadata": {},
   "outputs": [],
   "source": [
    "model = build_model(states, actions)"
   ]
  },
  {
   "cell_type": "code",
   "execution_count": 73,
   "metadata": {},
   "outputs": [
    {
     "data": {
      "text/plain": [
       "4"
      ]
     },
     "execution_count": 73,
     "metadata": {},
     "output_type": "execute_result"
    }
   ],
   "source": [
    "states"
   ]
  },
  {
   "cell_type": "code",
   "execution_count": 74,
   "metadata": {},
   "outputs": [
    {
     "name": "stdout",
     "output_type": "stream",
     "text": [
      "Model: \"sequential_4\"\n",
      "_________________________________________________________________\n",
      "Layer (type)                 Output Shape              Param #   \n",
      "=================================================================\n",
      "flatten_4 (Flatten)          (None, 4)                 0         \n",
      "_________________________________________________________________\n",
      "dense_12 (Dense)             (None, 24)                120       \n",
      "_________________________________________________________________\n",
      "dense_13 (Dense)             (None, 24)                600       \n",
      "_________________________________________________________________\n",
      "dense_14 (Dense)             (None, 2)                 50        \n",
      "=================================================================\n",
      "Total params: 770\n",
      "Trainable params: 770\n",
      "Non-trainable params: 0\n",
      "_________________________________________________________________\n"
     ]
    }
   ],
   "source": [
    "model.summary()"
   ]
  },
  {
   "cell_type": "markdown",
   "metadata": {},
   "source": [
    "# 3. Build Agent with Keras-RL"
   ]
  },
  {
   "cell_type": "code",
   "execution_count": 75,
   "metadata": {},
   "outputs": [],
   "source": [
    "from rl.agents import DQNAgent\n",
    "from rl.policy import BoltzmannQPolicy\n",
    "from rl.memory import SequentialMemory"
   ]
  },
  {
   "cell_type": "code",
   "execution_count": 76,
   "metadata": {},
   "outputs": [],
   "source": [
    "def build_agent(model, actions):\n",
    "    policy = BoltzmannQPolicy()\n",
    "    memory = SequentialMemory(limit=50000, window_length=1)\n",
    "    dqn = DQNAgent(model=model, memory=memory, policy=policy, \n",
    "                  nb_actions=actions, nb_steps_warmup=10, target_model_update=1e-2)\n",
    "    return dqn"
   ]
  },
  {
   "cell_type": "code",
   "execution_count": 55,
   "metadata": {},
   "outputs": [
    {
     "name": "stdout",
     "output_type": "stream",
     "text": [
      "Collecting dopamine-rl\n",
      "  Using cached dopamine_rl-4.0.6-py3-none-any.whl (179 kB)\n",
      "Requirement already satisfied: absl-py>=0.9.0 in c:\\users\\elyes\\anaconda3\\lib\\site-packages (from dopamine-rl) (0.15.0)\n",
      "Collecting pandas>=0.24.2\n",
      "  Downloading pandas-1.1.5-cp36-cp36m-win_amd64.whl (8.7 MB)\n",
      "Requirement already satisfied: numpy>=1.16.4 in c:\\users\\elyes\\appdata\\roaming\\python\\python36\\site-packages (from dopamine-rl) (1.18.5)\n",
      "Collecting tf-slim>=1.0\n",
      "  Using cached tf_slim-1.1.0-py2.py3-none-any.whl (352 kB)\n",
      "Collecting flax>=0.2.0\n",
      "  Downloading flax-0.6.1-py3-none-any.whl (185 kB)\n",
      "Collecting gin-config>=0.3.0\n",
      "  Using cached gin_config-0.5.0-py3-none-any.whl (61 kB)\n",
      "Collecting jax>=0.1.72\n",
      "  Using cached jax-0.2.17.tar.gz (693 kB)\n",
      "  Preparing metadata (setup.py): started\n",
      "  Preparing metadata (setup.py): finished with status 'done'\n",
      "Collecting opencv-python>=3.4.8.29\n",
      "  Using cached opencv_python-4.6.0.66-cp36-abi3-win_amd64.whl (35.6 MB)\n",
      "Collecting dopamine-rl\n",
      "  Using cached dopamine_rl-4.0.5-py3-none-any.whl (174 kB)\n",
      "Requirement already satisfied: gym[atari]>=0.13.1 in c:\\users\\elyes\\anaconda3\\lib\\site-packages (from dopamine-rl) (0.26.2)\n",
      "  Using cached dopamine_rl-4.0.2-py3-none-any.whl (164 kB)\n",
      "  Using cached dopamine_rl-4.0.1-py3-none-any.whl (151 kB)\n",
      "  Using cached dopamine_rl-4.0.0-py3-none-any.whl (147 kB)\n",
      "  Using cached dopamine_rl-3.2.1-py3-none-any.whl (127 kB)\n",
      "  Using cached dopamine_rl-3.1.14-py3-none-any.whl (120 kB)\n",
      "  Using cached dopamine_rl-3.1.13-py3-none-any.whl (119 kB)\n",
      "  Using cached dopamine_rl-3.1.10-py3-none-any.whl (119 kB)\n",
      "  Using cached dopamine_rl-3.1.9-py3-none-any.whl (118 kB)\n",
      "  Using cached dopamine_rl-3.1.8-py3-none-any.whl (117 kB)\n",
      "  Using cached dopamine_rl-3.1.7-py3-none-any.whl (117 kB)\n",
      "  Using cached dopamine_rl-3.1.6-py3-none-any.whl (117 kB)\n",
      "  Using cached dopamine_rl-3.1.5-py3-none-any.whl (117 kB)\n",
      "  Using cached dopamine_rl-3.1.4-py3-none-any.whl (117 kB)\n",
      "  Using cached dopamine_rl-3.1.3-py3-none-any.whl (117 kB)\n",
      "  Using cached dopamine_rl-3.1.2-py3-none-any.whl (111 kB)\n",
      "  Using cached dopamine_rl-3.1.1-py3-none-any.whl (112 kB)\n",
      "  Using cached dopamine_rl-3.1.0-py3-none-any.whl (90 kB)\n",
      "  Using cached dopamine_rl-3.0.1-py3-none-any.whl (84 kB)\n",
      "Requirement already satisfied: Pillow>=5.4.1 in c:\\users\\elyes\\anaconda3\\lib\\site-packages (from dopamine-rl) (8.4.0)\n",
      "Requirement already satisfied: six in c:\\users\\elyes\\anaconda3\\lib\\site-packages (from absl-py>=0.9.0->dopamine-rl) (1.15.0)\n",
      "Requirement already satisfied: importlib-metadata>=4.8.0 in c:\\users\\elyes\\anaconda3\\lib\\site-packages (from gym[atari]>=0.13.1->dopamine-rl) (4.8.3)\n",
      "Requirement already satisfied: gym-notices>=0.0.4 in c:\\users\\elyes\\anaconda3\\lib\\site-packages (from gym[atari]>=0.13.1->dopamine-rl) (0.0.8)\n",
      "Requirement already satisfied: dataclasses==0.8 in c:\\users\\elyes\\anaconda3\\lib\\site-packages (from gym[atari]>=0.13.1->dopamine-rl) (0.8)\n",
      "Requirement already satisfied: cloudpickle>=1.2.0 in c:\\users\\elyes\\anaconda3\\lib\\site-packages (from gym[atari]>=0.13.1->dopamine-rl) (2.2.0)\n",
      "Requirement already satisfied: typing-extensions>=3.6.4 in c:\\users\\elyes\\anaconda3\\lib\\site-packages (from importlib-metadata>=4.8.0->gym[atari]>=0.13.1->dopamine-rl) (3.7.4.3)\n",
      "Requirement already satisfied: zipp>=0.5 in c:\\users\\elyes\\anaconda3\\lib\\site-packages (from importlib-metadata>=4.8.0->gym[atari]>=0.13.1->dopamine-rl) (3.6.0)\n",
      "Installing collected packages: opencv-python, gin-config, dopamine-rl\n",
      "Successfully installed dopamine-rl-3.0.1 gin-config-0.5.0 opencv-python-4.6.0.66\n"
     ]
    },
    {
     "name": "stderr",
     "output_type": "stream",
     "text": [
      "WARNING: Ignoring invalid distribution -illow (c:\\users\\elyes\\anaconda3\\lib\\site-packages)\n",
      "WARNING: Ignoring invalid distribution -illow (c:\\users\\elyes\\anaconda3\\lib\\site-packages)\n",
      "WARNING: Ignoring invalid distribution -illow (c:\\users\\elyes\\anaconda3\\lib\\site-packages)\n",
      "WARNING: Ignoring invalid distribution -illow (c:\\users\\elyes\\anaconda3\\lib\\site-packages)\n",
      "WARNING: Ignoring invalid distribution -illow (c:\\users\\elyes\\anaconda3\\lib\\site-packages)\n"
     ]
    }
   ],
   "source": [
    "!pip install dopamine-rl --user"
   ]
  },
  {
   "cell_type": "code",
   "execution_count": null,
   "metadata": {},
   "outputs": [],
   "source": [
    "dqn = build_agent(model, actions)\n",
    "dqn.compile(Adam(lr=1e-3), metrics=['mae'])\n",
    "dqn.fit(env, nb_steps=50000, visualize=False, verbose=1)"
   ]
  },
  {
   "cell_type": "code",
   "execution_count": null,
   "metadata": {},
   "outputs": [],
   "source": [
    "scores = dqn.test(env, nb_episodes=100, visualize=False)\n",
    "print(np.mean(scores.history['episode_reward']))"
   ]
  },
  {
   "cell_type": "markdown",
   "metadata": {},
   "source": [
    "# 4. Reloading Agent from Memory"
   ]
  },
  {
   "cell_type": "code",
   "execution_count": null,
   "metadata": {},
   "outputs": [],
   "source": [
    "dqn.save_weights('dqn_weights.h5f', overwrite=True)"
   ]
  },
  {
   "cell_type": "code",
   "execution_count": 20,
   "metadata": {},
   "outputs": [],
   "source": [
    "del model\n",
    "del dqn\n",
    "del env"
   ]
  },
  {
   "cell_type": "code",
   "execution_count": null,
   "metadata": {},
   "outputs": [],
   "source": [
    "env = gym.make('CartPole-v0')\n",
    "actions = env.action_space.n\n",
    "states = env.observation_space.shape[0]\n",
    "model = build_model(states, actions)\n",
    "dqn = build_agent(model, actions)\n",
    "dqn.compile(Adam(lr=1e-3), metrics=['mae'])"
   ]
  },
  {
   "cell_type": "code",
   "execution_count": null,
   "metadata": {},
   "outputs": [],
   "source": [
    "dqn.load_weights('dqn_weights.h5f')"
   ]
  },
  {
   "cell_type": "code",
   "execution_count": null,
   "metadata": {},
   "outputs": [],
   "source": [
    "_ = dqn.test(env, nb_episodes=5, visualize=True)"
   ]
  }
 ],
 "metadata": {
  "kernelspec": {
   "display_name": "Python 3",
   "language": "python",
   "name": "python3"
  },
  "language_info": {
   "codemirror_mode": {
    "name": "ipython",
    "version": 3
   },
   "file_extension": ".py",
   "mimetype": "text/x-python",
   "name": "python",
   "nbconvert_exporter": "python",
   "pygments_lexer": "ipython3",
   "version": "3.6.5"
  }
 },
 "nbformat": 4,
 "nbformat_minor": 2
}
